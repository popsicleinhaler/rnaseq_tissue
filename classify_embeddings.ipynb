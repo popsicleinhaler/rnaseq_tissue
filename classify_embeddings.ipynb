{
 "cells": [
  {
   "cell_type": "code",
   "execution_count": 7,
   "metadata": {},
   "outputs": [],
   "source": [
    "#1 hot vectors hamming distance and k-nn\n",
    "import pickle\n",
    "import pandas as pd\n",
    "import numpy as np\n",
    "from tqdm import tqdm\n",
    "import matplotlib.pyplot as plt\n",
    "\n",
    "from sklearn.metrics import DistanceMetric\n",
    "from sklearn.neighbors import KNeighborsClassifier\n",
    "from sklearn.ensemble import RandomForestClassifier\n",
    "import numpy as np\n",
    "from sklearn.pipeline import make_pipeline\n",
    "from sklearn.preprocessing import StandardScaler\n",
    "from sklearn.svm import SVC\n",
    "from sklearn.metrics import accuracy_score, f1_score, precision_score, recall_score, classification_report, confusion_matrix"
   ]
  },
  {
   "cell_type": "code",
   "execution_count": 1,
   "metadata": {},
   "outputs": [
    {
     "ename": "NameError",
     "evalue": "name 'pickle' is not defined",
     "output_type": "error",
     "traceback": [
      "\u001b[1;31m---------------------------------------------------------------------------\u001b[0m",
      "\u001b[1;31mNameError\u001b[0m                                 Traceback (most recent call last)",
      "Cell \u001b[1;32mIn [1], line 2\u001b[0m\n\u001b[0;32m      1\u001b[0m \u001b[39mwith\u001b[39;00m \u001b[39mopen\u001b[39m(\u001b[39m'\u001b[39m\u001b[39membeddings/train_embed.pkl\u001b[39m\u001b[39m'\u001b[39m, \u001b[39m'\u001b[39m\u001b[39mrb\u001b[39m\u001b[39m'\u001b[39m) \u001b[39mas\u001b[39;00m f:\n\u001b[1;32m----> 2\u001b[0m     x_train_enc \u001b[39m=\u001b[39m pickle\u001b[39m.\u001b[39mload(f)\n\u001b[0;32m      3\u001b[0m \u001b[39mwith\u001b[39;00m \u001b[39mopen\u001b[39m(\u001b[39m'\u001b[39m\u001b[39membeddings/val_embed.pkl\u001b[39m\u001b[39m'\u001b[39m, \u001b[39m'\u001b[39m\u001b[39mrb\u001b[39m\u001b[39m'\u001b[39m) \u001b[39mas\u001b[39;00m f:\n\u001b[0;32m      4\u001b[0m     x_val_enc \u001b[39m=\u001b[39m pickle\u001b[39m.\u001b[39mload(f)\n",
      "\u001b[1;31mNameError\u001b[0m: name 'pickle' is not defined"
     ]
    }
   ],
   "source": [
    "with open('embeddings/train_embed.pkl', 'rb') as f:\n",
    "    x_train_enc = pickle.load(f)\n",
    "with open('embeddings/val_embed.pkl', 'rb') as f:\n",
    "    x_val_enc = pickle.load(f)\n",
    "with open('embeddings/test_embed.pkl', 'rb') as f:\n",
    "    x_test_enc = pickle.load(f)\n",
    "\n",
    "#load the processed split data\n",
    "def load_df(name):\n",
    "    return pd.read_pickle('data/'+name+'.pkl')\n",
    "\n",
    "[x_train, y_train, x_test, y_test, x_val, y_val] = map(load_df, ['x_train','y_train','x_test','y_test', 'x_val','y_val']) "
   ]
  },
  {
   "cell_type": "code",
   "execution_count": 12,
   "metadata": {},
   "outputs": [
    {
     "name": "stderr",
     "output_type": "stream",
     "text": [
      "100%|██████████| 49/49 [01:38<00:00,  2.01s/it]\n"
     ]
    }
   ],
   "source": [
    "accs = []\n",
    "for i in tqdm(range(1,50)):\n",
    "    rf_classifier = RandomForestClassifier(max_depth=i, random_state=0, n_jobs=8, n_estimators=500)\n",
    "    rf_classifier.fit(x_train_enc,y_train['sample_collection_site'])\n",
    "    y_pred = rf_classifier.predict(x_val_enc)\n",
    "    accs.append(accuracy_score(y_val['sample_collection_site'], y_pred))"
   ]
  },
  {
   "cell_type": "code",
   "execution_count": 13,
   "metadata": {},
   "outputs": [
    {
     "data": {
      "image/png": "[encoded data removed]",
      "text/plain": [
       "<Figure size 640x480 with 1 Axes>"
      ]
     },
     "metadata": {},
     "output_type": "display_data"
    }
   ],
   "source": [
    "plt.plot(list(range(1,50)), accs)\n",
    "plt.show()"
   ]
  },
  {
   "cell_type": "code",
   "execution_count": 17,
   "metadata": {},
   "outputs": [
    {
     "data": {
      "text/plain": [
       "0.45714285714285713"
      ]
     },
     "execution_count": 17,
     "metadata": {},
     "output_type": "execute_result"
    }
   ],
   "source": [
    "rf_classifier = RandomForestClassifier(max_depth=30, random_state=0, n_jobs=8, n_estimators=500)\n",
    "rf_classifier.fit(x_train_enc,y_train['sample_collection_site'])\n",
    "val_score = rf_classifier.score(x_val_enc,y_val['sample_collection_site'])\n",
    "val_score"
   ]
  },
  {
   "cell_type": "code",
   "execution_count": 18,
   "metadata": {},
   "outputs": [
    {
     "data": {
      "text/plain": [
       "0.35714285714285715"
      ]
     },
     "execution_count": 18,
     "metadata": {},
     "output_type": "execute_result"
    }
   ],
   "source": [
    "neigh = KNeighborsClassifier(n_neighbors=39)\n",
    "neigh.fit(x_train_enc,y_train['sample_collection_site'])\n",
    "val_score = neigh.score(x_val_enc,y_val['sample_collection_site'])\n",
    "val_score"
   ]
  },
  {
   "cell_type": "code",
   "execution_count": 24,
   "metadata": {},
   "outputs": [
    {
     "data": {
      "text/plain": [
       "0.4642857142857143"
      ]
     },
     "execution_count": 24,
     "metadata": {},
     "output_type": "execute_result"
    }
   ],
   "source": [
    "#clf = make_pipeline(StandardScaler(),SVC(gamma='auto'))\n",
    "clf = SVC(gamma='auto',kernel='linear')\n",
    "clf.fit(x_train_enc,y_train['sample_collection_site'])\n",
    "val_score = clf.score(x_val_enc,y_val['sample_collection_site'])\n",
    "val_score"
   ]
  },
  {
   "cell_type": "code",
   "execution_count": 25,
   "metadata": {},
   "outputs": [
    {
     "name": "stdout",
     "output_type": "stream",
     "text": [
      "score for  knn\n",
      "0.3952380952380952\n",
      "0.2568880321312834\n",
      "0.29436228828174593\n",
      "0.3013303684046718\n",
      "score for  svc\n",
      "0.37142857142857144\n",
      "0.38073684249187345\n",
      "0.3993826896787423\n",
      "0.3967460816563467\n",
      "score for  rfc\n",
      "0.43333333333333335\n",
      "0.26708419960887064\n",
      "0.28698262566229904\n",
      "0.30223086822448275\n"
     ]
    },
    {
     "name": "stderr",
     "output_type": "stream",
     "text": [
      "c:\\Users\\boop\\anaconda3\\envs\\sklearn\\lib\\site-packages\\sklearn\\metrics\\_classification.py:1334: UndefinedMetricWarning: Precision is ill-defined and being set to 0.0 in labels with no predicted samples. Use `zero_division` parameter to control this behavior.\n",
      "  _warn_prf(average, modifier, msg_start, len(result))\n",
      "c:\\Users\\boop\\anaconda3\\envs\\sklearn\\lib\\site-packages\\sklearn\\metrics\\_classification.py:1334: UndefinedMetricWarning: Recall is ill-defined and being set to 0.0 in labels with no true samples. Use `zero_division` parameter to control this behavior.\n",
      "  _warn_prf(average, modifier, msg_start, len(result))\n",
      "c:\\Users\\boop\\anaconda3\\envs\\sklearn\\lib\\site-packages\\sklearn\\metrics\\_classification.py:1334: UndefinedMetricWarning: Precision is ill-defined and being set to 0.0 in labels with no predicted samples. Use `zero_division` parameter to control this behavior.\n",
      "  _warn_prf(average, modifier, msg_start, len(result))\n",
      "c:\\Users\\boop\\anaconda3\\envs\\sklearn\\lib\\site-packages\\sklearn\\metrics\\_classification.py:1334: UndefinedMetricWarning: Precision is ill-defined and being set to 0.0 in labels with no predicted samples. Use `zero_division` parameter to control this behavior.\n",
      "  _warn_prf(average, modifier, msg_start, len(result))\n"
     ]
    }
   ],
   "source": [
    "y_hat_knn = neigh.predict(x_test_enc)\n",
    "y_hat_svc = clf.predict(x_test_enc)\n",
    "y_hat_rfc = rf_classifier.predict(x_test_enc)\n",
    "y = y_test['sample_collection_site']\n",
    "\n",
    "for y_pred,name in zip([y_hat_knn, y_hat_svc, y_hat_rfc],['knn','svc','rfc']):\n",
    "    print('score for ', name)\n",
    "    print(accuracy_score(y, y_pred))\n",
    "    print(f1_score(y, y_pred, average=\"macro\"))\n",
    "    print(precision_score(y, y_pred, average=\"macro\"))\n",
    "    print(recall_score(y, y_pred, average=\"macro\"))"
   ]
  },
  {
   "cell_type": "markdown",
   "metadata": {},
   "source": [
    "Similar accuracy score reached with latent space representation and random forrest and SVC as with uncompressed data."
   ]
  }
 ],
 "metadata": {
  "kernelspec": {
   "display_name": "Python 3.9.13 ('sklearn')",
   "language": "python",
   "name": "python3"
  },
  "language_info": {
   "codemirror_mode": {
    "name": "ipython",
    "version": 3
   },
   "file_extension": ".py",
   "mimetype": "text/x-python",
   "name": "python",
   "nbconvert_exporter": "python",
   "pygments_lexer": "ipython3",
   "version": "3.9.13"
  },
  "orig_nbformat": 4,
  "vscode": {
   "interpreter": {
    "hash": "8d4e283d18f86385b763f34a0a3c33f79f2a1f695b38b0d57fabf37e2cdebaa3"
   }
  }
 },
 "nbformat": 4,
 "nbformat_minor": 2
}
