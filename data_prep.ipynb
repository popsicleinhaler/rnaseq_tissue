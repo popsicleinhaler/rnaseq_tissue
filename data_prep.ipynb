{
 "cells": [
  {
   "cell_type": "markdown",
   "metadata": {},
   "source": [
    "importing the stuff and loading the data\n",
    "\n",
    "CCLE expression data is quantified from RNAseq files using the GTEx pipelines. A detailed description of the pipelines and tool versions can be found here: https://github.com/broadinstitute/ccle_processing#rnaseq. We provide a subset of the data files outputted from this pipeline available on FireCloud. These are aligned to hg38.\n",
    "\n",
    "### CCLE_expression.csv\n",
    "Pipeline: Expression\n",
    "\n",
    "Gene expression TPM values of the protein coding genes for DepMap cell lines. Values are inferred from RNA-seq data using the RSEM tool and are reported after log2 transformation, using a pseudo-count of 1; log2(TPM+1).\n",
    "\n",
    "Additional RNA-seq-based expression measurements are available for download as part of the full DepMap Data Release\n",
    "\n",
    "More information on the DepMap Omics processing pipeline is available at <https://github.com/broadinstitute/depmap_omics>.\n",
    "\n",
    "### sample_info.csv\n",
    "\n",
    "Metadata for all of DepMap’s cancer models/cell lines. A full description of each column is available in the DepMap Release README file.\n",
    "\n",
    "Columns:\n",
    "\n",
    "- DepMap_ID: Static primary key assigned by DepMap to each cell line\n",
    "\n",
    "- cell_line_name: Original cell line name, including punctuation\n",
    "\n",
    "- stripped_cell_line_name: Cell line name with alphanumeric characters only\n",
    "\n",
    "- CCLE_Name: Previous naming system that used the stripped cell line name followed\n",
    "by the lineage; no longer assigned to new cell lines\n",
    "\n",
    "- alias: Additional cell line identifiers (not a comprehensive list)\n",
    "\n",
    "- COSMICID: Cell line ID used in Cosmic cancer database\n",
    "\n",
    "- sex: Sex of tissue donor if known\n",
    "\n",
    "- source: Source of cell line vial used by DepMap\n",
    "\n",
    "- RRID: Cellosaurus research resource identifier\n",
    "\n",
    "- WTSI_Master_Cell_ID: ID of corresponding record in Sanger Drug dataset\n",
    "\n",
    "- sample_collection_site: Tissue collection site\n",
    "\n",
    "- primary_or_metastasis: Indicates whether tissue sample is from primary or metastatic\n",
    "site\n",
    "\n",
    "- primary_disease: General cancer lineage category\n",
    "\n",
    "- Subtype: Subtype of disease; specific disease name\n",
    "\n",
    "- age: If known, age of tissue donor at time of sample collection\n",
    "\n",
    "- Sanger_Model_ID: Sanger Institute Cell Model Passport ID\n",
    "\n",
    "- depmap_public_comments: Further information about the cell line   \n",
    "\n",
    "- lineage, lineage_subtype, lineage_sub_subtype, lineage_molecular_subtype: Cancer\n",
    "type classifications in a standardized form\n",
    "\n",
    "- default_growth_pattern: Typical growth pattern of the cell line\n",
    "\n",
    "- model_manipulation: Cell line modifications including drug resistance and gene knockout\n",
    "\n",
    "- model_manipulation_details: Additional information about the model manipulation\n",
    "\n",
    "- patient_id: Identifier indicating which cell lines come from the same patient\n",
    "\n",
    "- parent_depmap_id: If known, DepMap ID of parental cell line\n",
    "\n",
    "- Cellosaurus_NCIt_disease: From Cellosaurus, NCI thesaurus disease term\n",
    "\n",
    "- Cellosaurus_NCIt_id:  From Cellosaurus, NCI thesaurus code\n",
    "\n",
    "- Cellosaurus_issues:  From Cellosaurus, documented issues with cell line'"
   ]
  },
  {
   "cell_type": "code",
   "execution_count": 1,
   "metadata": {},
   "outputs": [],
   "source": [
    "import numpy as np\n",
    "import pandas as pd\n",
    "import pickle\n",
    "#from torchvision  import transforms\n",
    "from sklearn.preprocessing import StandardScaler\n",
    "from tqdm import tqdm"
   ]
  },
  {
   "cell_type": "code",
   "execution_count": 2,
   "metadata": {},
   "outputs": [],
   "source": [
    "#load the data into pandas dataframes\n",
    "with open('data/CCLE_expression.csv') as f:\n",
    "    genes=pd.read_csv(f)\n",
    "with open('data/sample_info.csv') as g:\n",
    "    meta=pd.read_csv(g)"
   ]
  },
  {
   "cell_type": "code",
   "execution_count": 3,
   "metadata": {},
   "outputs": [],
   "source": [
    "#name the ID column\n",
    "genes.rename(columns={genes.columns[0]:'id'},inplace=True)\n",
    "meta.rename(columns={meta.columns[0]:'id'},inplace=True)\n"
   ]
  },
  {
   "cell_type": "code",
   "execution_count": 4,
   "metadata": {},
   "outputs": [
    {
     "name": "stderr",
     "output_type": "stream",
     "text": [
      "C:\\Users\\boop\\AppData\\Local\\Temp\\ipykernel_13456\\441055720.py:1: FutureWarning: Dropping of nuisance columns in DataFrame reductions (with 'numeric_only=None') is deprecated; in a future version this will raise TypeError.  Select only valid columns before calling the reduction.\n",
      "  st = (genes.std()<0.1)\n"
     ]
    }
   ],
   "source": [
    "#remove features/genes with less than 0.01 standard deviation\n",
    "#these are housekeeping genes that won't contribute to classification\n",
    "st = (genes.std()<0.1)\n",
    "cols_drop = [n for n,c in zip(st.index,st) if c]\n",
    "gs = genes.drop(cols_drop, axis=1)"
   ]
  },
  {
   "cell_type": "code",
   "execution_count": 21,
   "metadata": {},
   "outputs": [
    {
     "data": {
      "text/plain": [
       "0.16965302322951725"
      ]
     },
     "execution_count": 21,
     "metadata": {},
     "output_type": "execute_result"
    }
   ],
   "source": [
    "#checking how sparse the matrix is\n",
    "sparsity = 1.0 - ( np.count_nonzero(genes) / float(genes.size) )\n",
    "sparsity"
   ]
  },
  {
   "cell_type": "code",
   "execution_count": 22,
   "metadata": {},
   "outputs": [
    {
     "data": {
      "text/plain": [
       "1701"
      ]
     },
     "execution_count": 22,
     "metadata": {},
     "output_type": "execute_result"
    }
   ],
   "source": [
    "#checking which genes have mostly zero expression in collected samples\n",
    "per_row = (genes == 0).sum(axis=1)\n",
    "per_col = (genes == 0).sum(axis=0)\n",
    "(per_col > genes.shape[0]*0.75).sum()"
   ]
  },
  {
   "cell_type": "code",
   "execution_count": 5,
   "metadata": {},
   "outputs": [],
   "source": [
    "#z-score normalization\n",
    "genes_norm = pd.DataFrame(StandardScaler().fit_transform(gs.drop('id', axis=1).to_numpy()))"
   ]
  },
  {
   "cell_type": "code",
   "execution_count": 5,
   "metadata": {},
   "outputs": [],
   "source": [
    "#for testing accuracy without z-score normalization\n",
    "#genes_norm = pd.DataFrame(gs.drop('id',axis=1).to_numpy())"
   ]
  },
  {
   "cell_type": "code",
   "execution_count": 6,
   "metadata": {},
   "outputs": [],
   "source": [
    "#re-insert the ID column\n",
    "genes_norm.insert(loc=0,column='id',value=genes['id'])"
   ]
  },
  {
   "cell_type": "code",
   "execution_count": 1,
   "metadata": {},
   "outputs": [
    {
     "ename": "NameError",
     "evalue": "name 'genes' is not defined",
     "output_type": "error",
     "traceback": [
      "\u001b[1;31m---------------------------------------------------------------------------\u001b[0m",
      "\u001b[1;31mNameError\u001b[0m                                 Traceback (most recent call last)",
      "Cell \u001b[1;32mIn [1], line 1\u001b[0m\n\u001b[1;32m----> 1\u001b[0m col_names \u001b[39m=\u001b[39m [g \u001b[39mfor\u001b[39;00m g \u001b[39min\u001b[39;00m genes\u001b[39m.\u001b[39mcolumns \u001b[39mif\u001b[39;00m g \u001b[39mnot\u001b[39;00m \u001b[39min\u001b[39;00m cols_drop]\n",
      "\u001b[1;31mNameError\u001b[0m: name 'genes' is not defined"
     ]
    }
   ],
   "source": [
    "#re-inserting the column names\n",
    "col_names = [g for g in genes.columns if g not in cols_drop]\n",
    "genes_norm.columns = col_names"
   ]
  },
  {
   "cell_type": "code",
   "execution_count": 9,
   "metadata": {},
   "outputs": [],
   "source": [
    "#subset the metadata to extract ID and labels\n",
    "labels = meta[['id','sample_collection_site']]\n",
    "#remove samples without labels _ maybe can predict these labels later\n",
    "labels = labels.dropna()\n",
    "#inner-join genes and labels frames on ID\n",
    "d_set = genes_norm.merge(labels, on='id')\n",
    "#keep categorical labels before one hort encoding eith get_dummies\n",
    "labels = d_set['sample_collection_site']\n",
    "#create one-hot encodings of the categorical labels\n",
    "d_set = pd.get_dummies(d_set, prefix='', columns=['sample_collection_site'])\n",
    "#keep categorical labels\n",
    "d_set['sample_collection_site'] = labels\n",
    "#drop the ID column\n",
    "d_set = d_set.drop('id', axis=1)"
   ]
  },
  {
   "cell_type": "code",
   "execution_count": 10,
   "metadata": {},
   "outputs": [
    {
     "data": {
      "text/html": [
       "<div>\n",
       "<style scoped>\n",
       "    .dataframe tbody tr th:only-of-type {\n",
       "        vertical-align: middle;\n",
       "    }\n",
       "\n",
       "    .dataframe tbody tr th {\n",
       "        vertical-align: top;\n",
       "    }\n",
       "\n",
       "    .dataframe thead th {\n",
       "        text-align: right;\n",
       "    }\n",
       "</style>\n",
       "<table border=\"1\" class=\"dataframe\">\n",
       "  <thead>\n",
       "    <tr style=\"text-align: right;\">\n",
       "      <th></th>\n",
       "      <th>TSPAN6 (7105)</th>\n",
       "      <th>TNMD (64102)</th>\n",
       "      <th>DPM1 (8813)</th>\n",
       "      <th>SCYL3 (57147)</th>\n",
       "      <th>C1orf112 (55732)</th>\n",
       "      <th>FGR (2268)</th>\n",
       "      <th>CFH (3075)</th>\n",
       "      <th>FUCA2 (2519)</th>\n",
       "      <th>GCLC (2729)</th>\n",
       "      <th>NFYA (4800)</th>\n",
       "      <th>...</th>\n",
       "      <th>_skin</th>\n",
       "      <th>_small_intestine</th>\n",
       "      <th>_soft_tissue</th>\n",
       "      <th>_spleen</th>\n",
       "      <th>_stomach</th>\n",
       "      <th>_thyroid</th>\n",
       "      <th>_upper_aerodigestive_tract</th>\n",
       "      <th>_urinary_tract</th>\n",
       "      <th>_uvea</th>\n",
       "      <th>sample_collection_site</th>\n",
       "    </tr>\n",
       "  </thead>\n",
       "  <tbody>\n",
       "    <tr>\n",
       "      <th>0</th>\n",
       "      <td>0.588749</td>\n",
       "      <td>-0.202133</td>\n",
       "      <td>1.343858</td>\n",
       "      <td>0.783058</td>\n",
       "      <td>1.014704</td>\n",
       "      <td>-0.333876</td>\n",
       "      <td>-0.419983</td>\n",
       "      <td>-1.154827</td>\n",
       "      <td>1.614989</td>\n",
       "      <td>0.919796</td>\n",
       "      <td>...</td>\n",
       "      <td>0</td>\n",
       "      <td>0</td>\n",
       "      <td>0</td>\n",
       "      <td>0</td>\n",
       "      <td>0</td>\n",
       "      <td>0</td>\n",
       "      <td>0</td>\n",
       "      <td>0</td>\n",
       "      <td>0</td>\n",
       "      <td>lung</td>\n",
       "    </tr>\n",
       "    <tr>\n",
       "      <th>1</th>\n",
       "      <td>0.731503</td>\n",
       "      <td>1.492424</td>\n",
       "      <td>0.944880</td>\n",
       "      <td>0.325173</td>\n",
       "      <td>-0.216331</td>\n",
       "      <td>-0.356738</td>\n",
       "      <td>-0.882908</td>\n",
       "      <td>-0.730441</td>\n",
       "      <td>-0.363524</td>\n",
       "      <td>-0.750702</td>\n",
       "      <td>...</td>\n",
       "      <td>0</td>\n",
       "      <td>0</td>\n",
       "      <td>0</td>\n",
       "      <td>0</td>\n",
       "      <td>0</td>\n",
       "      <td>0</td>\n",
       "      <td>0</td>\n",
       "      <td>0</td>\n",
       "      <td>0</td>\n",
       "      <td>central_nervous_system</td>\n",
       "    </tr>\n",
       "    <tr>\n",
       "      <th>2</th>\n",
       "      <td>-0.129471</td>\n",
       "      <td>-0.202133</td>\n",
       "      <td>1.366502</td>\n",
       "      <td>-0.060570</td>\n",
       "      <td>0.704678</td>\n",
       "      <td>-0.311458</td>\n",
       "      <td>-0.382578</td>\n",
       "      <td>0.851502</td>\n",
       "      <td>-0.831134</td>\n",
       "      <td>-1.026896</td>\n",
       "      <td>...</td>\n",
       "      <td>1</td>\n",
       "      <td>0</td>\n",
       "      <td>0</td>\n",
       "      <td>0</td>\n",
       "      <td>0</td>\n",
       "      <td>0</td>\n",
       "      <td>0</td>\n",
       "      <td>0</td>\n",
       "      <td>0</td>\n",
       "      <td>skin</td>\n",
       "    </tr>\n",
       "    <tr>\n",
       "      <th>3</th>\n",
       "      <td>1.046726</td>\n",
       "      <td>-0.202133</td>\n",
       "      <td>1.018487</td>\n",
       "      <td>0.329713</td>\n",
       "      <td>-0.752319</td>\n",
       "      <td>-0.356738</td>\n",
       "      <td>1.651131</td>\n",
       "      <td>0.564267</td>\n",
       "      <td>-0.130101</td>\n",
       "      <td>-0.119526</td>\n",
       "      <td>...</td>\n",
       "      <td>0</td>\n",
       "      <td>0</td>\n",
       "      <td>0</td>\n",
       "      <td>0</td>\n",
       "      <td>0</td>\n",
       "      <td>0</td>\n",
       "      <td>0</td>\n",
       "      <td>0</td>\n",
       "      <td>0</td>\n",
       "      <td>biliary_tract</td>\n",
       "    </tr>\n",
       "    <tr>\n",
       "      <th>4</th>\n",
       "      <td>2.046033</td>\n",
       "      <td>-0.202133</td>\n",
       "      <td>0.064594</td>\n",
       "      <td>0.165990</td>\n",
       "      <td>0.246655</td>\n",
       "      <td>0.282706</td>\n",
       "      <td>2.249149</td>\n",
       "      <td>0.236457</td>\n",
       "      <td>2.159703</td>\n",
       "      <td>0.691694</td>\n",
       "      <td>...</td>\n",
       "      <td>0</td>\n",
       "      <td>0</td>\n",
       "      <td>0</td>\n",
       "      <td>0</td>\n",
       "      <td>0</td>\n",
       "      <td>0</td>\n",
       "      <td>0</td>\n",
       "      <td>1</td>\n",
       "      <td>0</td>\n",
       "      <td>urinary_tract</td>\n",
       "    </tr>\n",
       "  </tbody>\n",
       "</table>\n",
       "<p>5 rows × 18292 columns</p>\n",
       "</div>"
      ],
      "text/plain": [
       "   TSPAN6 (7105)  TNMD (64102)  DPM1 (8813)  SCYL3 (57147)  C1orf112 (55732)  \\\n",
       "0       0.588749     -0.202133     1.343858       0.783058          1.014704   \n",
       "1       0.731503      1.492424     0.944880       0.325173         -0.216331   \n",
       "2      -0.129471     -0.202133     1.366502      -0.060570          0.704678   \n",
       "3       1.046726     -0.202133     1.018487       0.329713         -0.752319   \n",
       "4       2.046033     -0.202133     0.064594       0.165990          0.246655   \n",
       "\n",
       "   FGR (2268)  CFH (3075)  FUCA2 (2519)  GCLC (2729)  NFYA (4800)  ...  _skin  \\\n",
       "0   -0.333876   -0.419983     -1.154827     1.614989     0.919796  ...      0   \n",
       "1   -0.356738   -0.882908     -0.730441    -0.363524    -0.750702  ...      0   \n",
       "2   -0.311458   -0.382578      0.851502    -0.831134    -1.026896  ...      1   \n",
       "3   -0.356738    1.651131      0.564267    -0.130101    -0.119526  ...      0   \n",
       "4    0.282706    2.249149      0.236457     2.159703     0.691694  ...      0   \n",
       "\n",
       "   _small_intestine  _soft_tissue  _spleen  _stomach  _thyroid  \\\n",
       "0                 0             0        0         0         0   \n",
       "1                 0             0        0         0         0   \n",
       "2                 0             0        0         0         0   \n",
       "3                 0             0        0         0         0   \n",
       "4                 0             0        0         0         0   \n",
       "\n",
       "   _upper_aerodigestive_tract  _urinary_tract  _uvea  sample_collection_site  \n",
       "0                           0               0      0                    lung  \n",
       "1                           0               0      0  central_nervous_system  \n",
       "2                           0               0      0                    skin  \n",
       "3                           0               0      0           biliary_tract  \n",
       "4                           0               1      0           urinary_tract  \n",
       "\n",
       "[5 rows x 18292 columns]"
      ]
     },
     "execution_count": 10,
     "metadata": {},
     "output_type": "execute_result"
    }
   ],
   "source": [
    "d_set.head()"
   ]
  },
  {
   "cell_type": "code",
   "execution_count": 78,
   "metadata": {},
   "outputs": [
    {
     "ename": "KeyError",
     "evalue": "'sample_collection_site'",
     "output_type": "error",
     "traceback": [
      "\u001b[1;31m---------------------------------------------------------------------------\u001b[0m",
      "\u001b[1;31mKeyError\u001b[0m                                  Traceback (most recent call last)",
      "File \u001b[1;32mc:\\Users\\boop\\anaconda3\\envs\\sklearn\\lib\\site-packages\\pandas\\core\\indexes\\base.py:3361\u001b[0m, in \u001b[0;36mIndex.get_loc\u001b[1;34m(self, key, method, tolerance)\u001b[0m\n\u001b[0;32m   3360\u001b[0m \u001b[39mtry\u001b[39;00m:\n\u001b[1;32m-> 3361\u001b[0m     \u001b[39mreturn\u001b[39;00m \u001b[39mself\u001b[39;49m\u001b[39m.\u001b[39;49m_engine\u001b[39m.\u001b[39;49mget_loc(casted_key)\n\u001b[0;32m   3362\u001b[0m \u001b[39mexcept\u001b[39;00m \u001b[39mKeyError\u001b[39;00m \u001b[39mas\u001b[39;00m err:\n",
      "File \u001b[1;32mc:\\Users\\boop\\anaconda3\\envs\\sklearn\\lib\\site-packages\\pandas\\_libs\\index.pyx:76\u001b[0m, in \u001b[0;36mpandas._libs.index.IndexEngine.get_loc\u001b[1;34m()\u001b[0m\n",
      "File \u001b[1;32mpandas\\_libs\\index_class_helper.pxi:105\u001b[0m, in \u001b[0;36mpandas._libs.index.Int64Engine._check_type\u001b[1;34m()\u001b[0m\n",
      "File \u001b[1;32mpandas\\_libs\\index_class_helper.pxi:105\u001b[0m, in \u001b[0;36mpandas._libs.index.Int64Engine._check_type\u001b[1;34m()\u001b[0m\n",
      "\u001b[1;31mKeyError\u001b[0m: 'sample_collection_site'",
      "\nThe above exception was the direct cause of the following exception:\n",
      "\u001b[1;31mKeyError\u001b[0m                                  Traceback (most recent call last)",
      "Cell \u001b[1;32mIn [78], line 1\u001b[0m\n\u001b[1;32m----> 1\u001b[0m \u001b[39mset\u001b[39m(\u001b[39mlist\u001b[39m(labels[\u001b[39m'\u001b[39;49m\u001b[39msample_collection_site\u001b[39;49m\u001b[39m'\u001b[39;49m]\u001b[39m.\u001b[39mvalues)) \u001b[39m-\u001b[39m \u001b[39mset\u001b[39m(\u001b[39mlist\u001b[39m(d_set[\u001b[39m'\u001b[39m\u001b[39msample_collection_site\u001b[39m\u001b[39m'\u001b[39m]\u001b[39m.\u001b[39mvalues))\n",
      "File \u001b[1;32mc:\\Users\\boop\\anaconda3\\envs\\sklearn\\lib\\site-packages\\pandas\\core\\series.py:942\u001b[0m, in \u001b[0;36mSeries.__getitem__\u001b[1;34m(self, key)\u001b[0m\n\u001b[0;32m    939\u001b[0m     \u001b[39mreturn\u001b[39;00m \u001b[39mself\u001b[39m\u001b[39m.\u001b[39m_values[key]\n\u001b[0;32m    941\u001b[0m \u001b[39melif\u001b[39;00m key_is_scalar:\n\u001b[1;32m--> 942\u001b[0m     \u001b[39mreturn\u001b[39;00m \u001b[39mself\u001b[39;49m\u001b[39m.\u001b[39;49m_get_value(key)\n\u001b[0;32m    944\u001b[0m \u001b[39mif\u001b[39;00m is_hashable(key):\n\u001b[0;32m    945\u001b[0m     \u001b[39m# Otherwise index.get_value will raise InvalidIndexError\u001b[39;00m\n\u001b[0;32m    946\u001b[0m     \u001b[39mtry\u001b[39;00m:\n\u001b[0;32m    947\u001b[0m         \u001b[39m# For labels that don't resolve as scalars like tuples and frozensets\u001b[39;00m\n",
      "File \u001b[1;32mc:\\Users\\boop\\anaconda3\\envs\\sklearn\\lib\\site-packages\\pandas\\core\\series.py:1051\u001b[0m, in \u001b[0;36mSeries._get_value\u001b[1;34m(self, label, takeable)\u001b[0m\n\u001b[0;32m   1048\u001b[0m     \u001b[39mreturn\u001b[39;00m \u001b[39mself\u001b[39m\u001b[39m.\u001b[39m_values[label]\n\u001b[0;32m   1050\u001b[0m \u001b[39m# Similar to Index.get_value, but we do not fall back to positional\u001b[39;00m\n\u001b[1;32m-> 1051\u001b[0m loc \u001b[39m=\u001b[39m \u001b[39mself\u001b[39;49m\u001b[39m.\u001b[39;49mindex\u001b[39m.\u001b[39;49mget_loc(label)\n\u001b[0;32m   1052\u001b[0m \u001b[39mreturn\u001b[39;00m \u001b[39mself\u001b[39m\u001b[39m.\u001b[39mindex\u001b[39m.\u001b[39m_get_values_for_loc(\u001b[39mself\u001b[39m, loc, label)\n",
      "File \u001b[1;32mc:\\Users\\boop\\anaconda3\\envs\\sklearn\\lib\\site-packages\\pandas\\core\\indexes\\base.py:3363\u001b[0m, in \u001b[0;36mIndex.get_loc\u001b[1;34m(self, key, method, tolerance)\u001b[0m\n\u001b[0;32m   3361\u001b[0m         \u001b[39mreturn\u001b[39;00m \u001b[39mself\u001b[39m\u001b[39m.\u001b[39m_engine\u001b[39m.\u001b[39mget_loc(casted_key)\n\u001b[0;32m   3362\u001b[0m     \u001b[39mexcept\u001b[39;00m \u001b[39mKeyError\u001b[39;00m \u001b[39mas\u001b[39;00m err:\n\u001b[1;32m-> 3363\u001b[0m         \u001b[39mraise\u001b[39;00m \u001b[39mKeyError\u001b[39;00m(key) \u001b[39mfrom\u001b[39;00m \u001b[39merr\u001b[39;00m\n\u001b[0;32m   3365\u001b[0m \u001b[39mif\u001b[39;00m is_scalar(key) \u001b[39mand\u001b[39;00m isna(key) \u001b[39mand\u001b[39;00m \u001b[39mnot\u001b[39;00m \u001b[39mself\u001b[39m\u001b[39m.\u001b[39mhasnans:\n\u001b[0;32m   3366\u001b[0m     \u001b[39mraise\u001b[39;00m \u001b[39mKeyError\u001b[39;00m(key)\n",
      "\u001b[1;31mKeyError\u001b[0m: 'sample_collection_site'"
     ]
    }
   ],
   "source": [
    "#finding the tissues from which we have no RNA-seq data\n",
    "set(list(labels['sample_collection_site'].values)) - set(list(d_set['sample_collection_site'].values))"
   ]
  },
  {
   "cell_type": "markdown",
   "metadata": {},
   "source": [
    "ADD THE DISTIBUTIONS AND SPARSITY\n",
    "SHOULD ALSO DO THE CORRELATION AND OTHER SIMILARITY MATRICES"
   ]
  },
  {
   "cell_type": "code",
   "execution_count": 10,
   "metadata": {},
   "outputs": [],
   "source": [
    "# split the dataframe into train, test and validation\n",
    "train = d_set.sample(frac=0.75, random_state=42)\n",
    "other = d_set.drop(train.index)\n",
    "test = other.sample(frac=0.4, random_state=42)\n",
    "val = other.drop(test.index)\n",
    "\n",
    "#get the titles for label columns to do the x/y split later\n",
    "label_cols = d_set.iloc[:,-40:].columns\n",
    "\n",
    "#split the frames into data and label\n",
    "def xy_split(df):\n",
    "    #uses label_cols from global\n",
    "    x = df.drop(label_cols, axis=1)\n",
    "    return [x, df[label_cols]]\n",
    "\n",
    "[x_train,y_train],[x_test,y_test],[x_val,y_val] = map(xy_split, [train,val,test])"
   ]
  },
  {
   "cell_type": "code",
   "execution_count": 18,
   "metadata": {},
   "outputs": [],
   "source": [
    "#pickle the data for later loading for training\n",
    "for df , name in zip([x_train,x_test,x_val,y_train,y_test,y_val],['x_train.pkl','x_test.pkl','x_val.pkl','y_train.pkl','y_test.pkl','y_val.pkl']):\n",
    "    df.to_pickle('data/'+name)"
   ]
  },
  {
   "cell_type": "code",
   "execution_count": 37,
   "metadata": {},
   "outputs": [
    {
     "name": "stderr",
     "output_type": "stream",
     "text": [
      " 53%|█████▎    | 10156/19221 [9:03:28<8:05:05,  3.21s/it] \n"
     ]
    },
    {
     "ename": "KeyboardInterrupt",
     "evalue": "",
     "output_type": "error",
     "traceback": [
      "\u001b[1;31m---------------------------------------------------------------------------\u001b[0m",
      "\u001b[1;31mKeyboardInterrupt\u001b[0m                         Traceback (most recent call last)",
      "Cell \u001b[1;32mIn [37], line 18\u001b[0m\n\u001b[0;32m     16\u001b[0m P \u001b[39m=\u001b[39m df\u001b[39m.\u001b[39miloc[:,i]\n\u001b[0;32m     17\u001b[0m Q \u001b[39m=\u001b[39m df\u001b[39m.\u001b[39miloc[:,j]\n\u001b[1;32m---> 18\u001b[0m jsd_sim[i,j] \u001b[39m=\u001b[39m JSD(P,Q)\n",
      "Cell \u001b[1;32mIn [37], line 9\u001b[0m, in \u001b[0;36mJSD\u001b[1;34m(P, Q)\u001b[0m\n\u001b[0;32m      7\u001b[0m _Q \u001b[39m=\u001b[39m Q \u001b[39m/\u001b[39m norm(Q, \u001b[39mord\u001b[39m\u001b[39m=\u001b[39m\u001b[39m1\u001b[39m)\n\u001b[0;32m      8\u001b[0m _M \u001b[39m=\u001b[39m \u001b[39m0.5\u001b[39m \u001b[39m*\u001b[39m (_P \u001b[39m+\u001b[39m _Q)\n\u001b[1;32m----> 9\u001b[0m \u001b[39mreturn\u001b[39;00m \u001b[39m0.5\u001b[39m \u001b[39m*\u001b[39m (entropy(_P, _M) \u001b[39m+\u001b[39m entropy(_Q, _M))\n",
      "File \u001b[1;32mc:\\Users\\boop\\anaconda3\\envs\\sklearn\\lib\\site-packages\\scipy\\stats\\_entropy.py:77\u001b[0m, in \u001b[0;36mentropy\u001b[1;34m(pk, qk, base, axis)\u001b[0m\n\u001b[0;32m     74\u001b[0m     \u001b[39mraise\u001b[39;00m \u001b[39mValueError\u001b[39;00m(\u001b[39m\"\u001b[39m\u001b[39m`base` must be a positive number or `None`.\u001b[39m\u001b[39m\"\u001b[39m)\n\u001b[0;32m     76\u001b[0m pk \u001b[39m=\u001b[39m np\u001b[39m.\u001b[39masarray(pk)\n\u001b[1;32m---> 77\u001b[0m pk \u001b[39m=\u001b[39m \u001b[39m1.0\u001b[39;49m\u001b[39m*\u001b[39;49mpk \u001b[39m/\u001b[39m np\u001b[39m.\u001b[39msum(pk, axis\u001b[39m=\u001b[39maxis, keepdims\u001b[39m=\u001b[39m\u001b[39mTrue\u001b[39;00m)\n\u001b[0;32m     78\u001b[0m \u001b[39mif\u001b[39;00m qk \u001b[39mis\u001b[39;00m \u001b[39mNone\u001b[39;00m:\n\u001b[0;32m     79\u001b[0m     vec \u001b[39m=\u001b[39m special\u001b[39m.\u001b[39mentr(pk)\n",
      "\u001b[1;31mKeyboardInterrupt\u001b[0m: "
     ]
    }
   ],
   "source": [
    "# this cell computes the all to all Jaccard similarity\n",
    "from scipy.stats import entropy\n",
    "from numpy.linalg import norm\n",
    "import numpy as np\n",
    "\n",
    "def JSD(P, Q):\n",
    "    _P = P / norm(P, ord=1)\n",
    "    _Q = Q / norm(Q, ord=1)\n",
    "    _M = 0.5 * (_P + _Q)\n",
    "    return 0.5 * (entropy(_P, _M) + entropy(_Q, _M))\n",
    "\n",
    "df = genes.drop('id',axis=1)\n",
    "\n",
    "jsd_sim = np.zeros(19221*19221).reshape(19221,19221)\n",
    "for i in tqdm(range(19221)):\n",
    "    for j in range(i):\n",
    "        P = df.iloc[:,i]\n",
    "        Q = df.iloc[:,j]\n",
    "        jsd_sim[i,j] = JSD(P,Q)"
   ]
  },
  {
   "cell_type": "code",
   "execution_count": 43,
   "metadata": {},
   "outputs": [
    {
     "data": {
      "text/plain": [
       "(array([2512, 2512, 2581, 3195, 5680, 5853, 5948, 5948, 6106, 6106, 6106,\n",
       "        6301, 6919, 7394, 7641, 8627, 8707, 8824, 8895, 9151, 9513, 9513,\n",
       "        9693], dtype=int64),\n",
       " array([   1, 1907, 2512, 2512, 2512, 2512, 2512, 3541, 2035, 3022, 3868,\n",
       "        2512, 3022, 2512, 5853, 2512, 2512, 5948, 1154, 2512, 6925, 8063,\n",
       "        9513], dtype=int64))"
      ]
     },
     "execution_count": 43,
     "metadata": {},
     "output_type": "execute_result"
    }
   ],
   "source": [
    "#finding the most similar genes\n",
    "np.where(jsd_sim == max(jsd_sim.reshape(-1)))"
   ]
  }
 ],
 "metadata": {
  "kernelspec": {
   "display_name": "Python 3.9.13 ('sklearn')",
   "language": "python",
   "name": "python3"
  },
  "language_info": {
   "codemirror_mode": {
    "name": "ipython",
    "version": 3
   },
   "file_extension": ".py",
   "mimetype": "text/x-python",
   "name": "python",
   "nbconvert_exporter": "python",
   "pygments_lexer": "ipython3",
   "version": "3.9.13"
  },
  "orig_nbformat": 4,
  "vscode": {
   "interpreter": {
    "hash": "8d4e283d18f86385b763f34a0a3c33f79f2a1f695b38b0d57fabf37e2cdebaa3"
   }
  }
 },
 "nbformat": 4,
 "nbformat_minor": 2
}
